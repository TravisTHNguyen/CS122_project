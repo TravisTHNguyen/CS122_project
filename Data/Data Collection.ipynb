{
 "cells": [
  {
   "cell_type": "code",
   "execution_count": 9,
   "id": "9e6241f0-fca8-46ef-ad6c-3c42c9945aad",
   "metadata": {},
   "outputs": [
    {
     "name": "stdout",
     "output_type": "stream",
     "text": [
      "Requirement already satisfied: spotipy in c:\\users\\travis\\miniconda3\\envs\\cs122\\lib\\site-packages (2.25.1)\n",
      "Requirement already satisfied: redis>=3.5.3 in c:\\users\\travis\\miniconda3\\envs\\cs122\\lib\\site-packages (from spotipy) (6.0.0)\n",
      "Requirement already satisfied: requests>=2.25.0 in c:\\users\\travis\\miniconda3\\envs\\cs122\\lib\\site-packages (from spotipy) (2.32.3)\n",
      "Requirement already satisfied: urllib3>=1.26.0 in c:\\users\\travis\\miniconda3\\envs\\cs122\\lib\\site-packages (from spotipy) (2.3.0)\n",
      "Requirement already satisfied: async-timeout>=4.0.3 in c:\\users\\travis\\miniconda3\\envs\\cs122\\lib\\site-packages (from redis>=3.5.3->spotipy) (5.0.1)\n",
      "Requirement already satisfied: charset-normalizer<4,>=2 in c:\\users\\travis\\miniconda3\\envs\\cs122\\lib\\site-packages (from requests>=2.25.0->spotipy) (3.3.2)\n",
      "Requirement already satisfied: idna<4,>=2.5 in c:\\users\\travis\\miniconda3\\envs\\cs122\\lib\\site-packages (from requests>=2.25.0->spotipy) (3.7)\n",
      "Requirement already satisfied: certifi>=2017.4.17 in c:\\users\\travis\\miniconda3\\envs\\cs122\\lib\\site-packages (from requests>=2.25.0->spotipy) (2025.4.26)\n"
     ]
    }
   ],
   "source": [
    "!pip install spotipy"
   ]
  },
  {
   "cell_type": "code",
   "execution_count": 10,
   "id": "cfcf4ee1-755d-40ce-85cf-9ad4767bd4a7",
   "metadata": {},
   "outputs": [],
   "source": [
    "import spotipy\n",
    "from spotipy.oauth2 import SpotifyOAuth\n",
    "import pandas as pd"
   ]
  },
  {
   "cell_type": "code",
   "execution_count": 11,
   "id": "872e2c22-1198-4ba5-b495-8bcb87f3b24e",
   "metadata": {},
   "outputs": [],
   "source": [
    "CLIENT_ID = \"d3b16b119e9547d6965785618bcf4543\"\n",
    "CLIENT_SECRET = \"30e320c3376a4383ba5a25af9bc8cb2a\"\n",
    "REDIRECT_URI = \"http://localhost:8080\"\n",
    "SCOPE = \"playlist-read-private\"\n",
    "PLAYLIST_IDS = [\"2LEWfVqIUsbBcwLzX1GzKs\"]  # Replace or add more playlist IDs\n",
    "all_data = []\n",
    "\n",
    "# --- Authenticate with OAuth ---\n",
    "sp = spotipy.Spotify(auth_manager=SpotifyOAuth(\n",
    "    client_id=CLIENT_ID,\n",
    "    client_secret=CLIENT_SECRET,\n",
    "    redirect_uri=REDIRECT_URI,\n",
    "    scope=SCOPE\n",
    "))\n",
    "\n"
   ]
  },
  {
   "cell_type": "code",
   "execution_count": 12,
   "id": "2d3d69f5-6662-4a80-bf31-9c0864fb3220",
   "metadata": {},
   "outputs": [
    {
     "name": "stdout",
     "output_type": "stream",
     "text": [
      "📥 Fetching: 2024\n",
      "✅ Saved to playlist_with_artist_album_info.csv\n"
     ]
    }
   ],
   "source": [
    "for pid in PLAYLIST_IDS:\n",
    "    playlist = sp.playlist(pid)\n",
    "    playlist_name = playlist['name']\n",
    "    print(f\"📥 Fetching: {playlist_name}\")\n",
    "    \n",
    "    tracks = sp.playlist_items(pid, limit=100)[\"items\"]\n",
    "\n",
    "    for item in tracks:\n",
    "        track = item['track']\n",
    "        if not track:\n",
    "            continue\n",
    "\n",
    "        # Basic track data\n",
    "        song = track[\"name\"]\n",
    "        artist_name = track[\"artists\"][0][\"name\"]\n",
    "        artist_id = track[\"artists\"][0][\"id\"]\n",
    "        popularity = track[\"popularity\"]\n",
    "        explicit = track[\"explicit\"]\n",
    "        duration_ms = track[\"duration_ms\"]\n",
    "        album_name = track[\"album\"][\"name\"]\n",
    "        release_date = track[\"album\"][\"release_date\"]\n",
    "\n",
    "        # Fetch artist data\n",
    "        genres = []\n",
    "        artist_popularity = None\n",
    "        artist_followers = None\n",
    "\n",
    "        if artist_id:\n",
    "            try:\n",
    "                artist_info = sp.artist(artist_id)\n",
    "                genres = artist_info.get(\"genres\", [])\n",
    "                artist_popularity = artist_info.get(\"popularity\")\n",
    "                artist_followers = artist_info.get(\"followers\", {}).get(\"total\")\n",
    "            except Exception as e:\n",
    "                print(f\"⚠️ Error fetching artist data for {artist_name}: {e}\")\n",
    "\n",
    "        all_data.append({\n",
    "            \"Playlist\": playlist_name,\n",
    "            \"Song\": song,\n",
    "            \"Artist\": artist_name,\n",
    "            \"Popularity\": popularity,\n",
    "            \"Explicit\": explicit,\n",
    "            \"Duration (ms)\": duration_ms,\n",
    "            \"Album\": album_name,\n",
    "            \"Release Date\": release_date,\n",
    "            \"Artist Popularity\": artist_popularity,\n",
    "            \"Artist Followers\": artist_followers,\n",
    "            \"Genres\": \", \".join(genres) if genres else \"unknown\"\n",
    "        })\n",
    "\n",
    "# --- Save to CSV ---\n",
    "df = pd.DataFrame(all_data)\n",
    "df.to_csv(\"2024_playlist_with_artist_album_info.csv\", index=False)\n",
    "print(\"✅ Saved to playlist_with_artist_album_info.csv\")\n"
   ]
  },
  {
   "cell_type": "code",
   "execution_count": null,
   "id": "99145d51-c876-4d49-a0bf-67dea69e48d5",
   "metadata": {},
   "outputs": [],
   "source": []
  }
 ],
 "metadata": {
  "kernelspec": {
   "display_name": "cs122",
   "language": "python",
   "name": "python3"
  },
  "language_info": {
   "codemirror_mode": {
    "name": "ipython",
    "version": 3
   },
   "file_extension": ".py",
   "mimetype": "text/x-python",
   "name": "python",
   "nbconvert_exporter": "python",
   "pygments_lexer": "ipython3",
   "version": "3.10.16"
  }
 },
 "nbformat": 4,
 "nbformat_minor": 5
}
